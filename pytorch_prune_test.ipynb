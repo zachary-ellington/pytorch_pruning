{
 "cells": [
  {
   "cell_type": "code",
   "execution_count": 1,
   "metadata": {},
   "outputs": [
    {
     "name": "stderr",
     "output_type": "stream",
     "text": [
      "/home/zache1/anaconda3/envs/pyt/lib/python3.10/site-packages/tqdm/auto.py:22: TqdmWarning: IProgress not found. Please update jupyter and ipywidgets. See https://ipywidgets.readthedocs.io/en/stable/user_install.html\n",
      "  from .autonotebook import tqdm as notebook_tqdm\n"
     ]
    }
   ],
   "source": [
    "import torch\n",
    "from torch import nn\n",
    "import torch.nn.utils.prune as prune\n",
    "import torch.nn.functional as F\n",
    "import torchvision.datasets as datasets\n",
    "import torchvision.transforms as transforms\n",
    "import numpy as np\n",
    "from pytorch_resnet_cifar10.resnet import resnet56"
   ]
  },
  {
   "attachments": {},
   "cell_type": "markdown",
   "metadata": {},
   "source": [
    "Load the CIFAR10 Data"
   ]
  },
  {
   "cell_type": "code",
   "execution_count": 2,
   "metadata": {},
   "outputs": [
    {
     "name": "stdout",
     "output_type": "stream",
     "text": [
      "Downloading https://www.cs.toronto.edu/~kriz/cifar-10-python.tar.gz to data/CIFAR10/cifar-10-python.tar.gz\n"
     ]
    },
    {
     "name": "stderr",
     "output_type": "stream",
     "text": [
      "100%|██████████| 170498071/170498071 [00:13<00:00, 12388835.32it/s]\n"
     ]
    },
    {
     "name": "stdout",
     "output_type": "stream",
     "text": [
      "Extracting data/CIFAR10/cifar-10-python.tar.gz to data/CIFAR10\n"
     ]
    }
   ],
   "source": [
    "import os\n",
    "os.environ['DATAPATH'] = 'data'\n",
    "\n",
    "transform = transforms.Compose(\n",
    "    [transforms.ToTensor(),\n",
    "     transforms.Normalize((0.5, 0.5, 0.5), (0.5, 0.5, 0.5))])\n",
    "\n",
    "data = datasets.CIFAR10(root=\"data/CIFAR10\", train=True, download=True, transform=transform)\n",
    "dataloader = torch.utils.data.DataLoader(data, batch_size=32, shuffle=False)"
   ]
  },
  {
   "attachments": {},
   "cell_type": "markdown",
   "metadata": {},
   "source": [
    "Load ResNet-56 model for CIFAR10"
   ]
  },
  {
   "cell_type": "code",
   "execution_count": 3,
   "metadata": {},
   "outputs": [],
   "source": [
    "device = torch.device(\"cuda\" if torch.cuda.is_available() else \"cpu\")\n",
    "\n",
    "# Load the model\n",
    "model = resnet56()\n",
    "\n",
    "#load the model with the correct weights\n",
    "check_point = torch.load('pytorch_resnet_cifar10/pretrained_models/resnet56-4bfd9763.th', map_location=device)\n",
    "data_parallel = torch.nn.DataParallel(model) # don't fully understand what this does, but it is needed\n",
    "data_parallel.load_state_dict(check_point['state_dict'])\n",
    "\n",
    "model.to(device)\n",
    "\n",
    "None"
   ]
  },
  {
   "attachments": {},
   "cell_type": "markdown",
   "metadata": {},
   "source": [
    "Testing the pretrained model"
   ]
  },
  {
   "cell_type": "code",
   "execution_count": 4,
   "metadata": {},
   "outputs": [
    {
     "name": "stdout",
     "output_type": "stream",
     "text": [
      "(50000,)\n",
      "(50000, 32, 32, 3)\n",
      "0.9759\n"
     ]
    }
   ],
   "source": [
    "\n",
    "print(np.shape(data.targets))\n",
    "print(np.shape(data.data))\n",
    "\n",
    "def get_accuracy(model, dataloader):\n",
    "    correct = 0\n",
    "    total = 0\n",
    "\n",
    "    with torch.no_grad():\n",
    "        for images, labels in dataloader:\n",
    "            images, labels = images.to(device), labels.to(device)\n",
    "            outputs = model(images)\n",
    "            _, prediction = torch.max(outputs, 1)\n",
    "            total += labels.size(0)\n",
    "            correct += (prediction == labels).sum().item()\n",
    "    return correct / total\n",
    "\n",
    "\n",
    "print(get_accuracy(model, dataloader))"
   ]
  },
  {
   "cell_type": "code",
   "execution_count": 5,
   "metadata": {},
   "outputs": [
    {
     "data": {
      "text/plain": [
       "\"\\ndef identityPrune(model):\\n    for module in model.modules():\\n        param_names = {name for name, _ in module.named_parameters(recurse = False)}\\n        for param_name in param_names:\\n            if not prune.is_pruned(module=module):\\n                prune.identity(module=module, name=param_name)\\n\\ndef getWeights(model):\\n    identityPrune(model)\\n    modules = list()\\n    weights = list()\\n    masks = list()\\n    for module in model.modules():\\n        if (hasattr(module, 'weight_orig') and hasattr(module, 'weight_mask')):\\n            modules.append(module)\\n            weights.append(getattr(module, 'weight_orig'))\\n            masks.append(getattr(module, 'weight_mask'))\\n    return modules, weights, masks\\n\\nmodules, weights, masks = getWeights(model)\\n\""
      ]
     },
     "execution_count": 5,
     "metadata": {},
     "output_type": "execute_result"
    }
   ],
   "source": [
    "'''\n",
    "def identityPrune(model):\n",
    "    for module in model.modules():\n",
    "        param_names = {name for name, _ in module.named_parameters(recurse = False)}\n",
    "        for param_name in param_names:\n",
    "            if not prune.is_pruned(module=module):\n",
    "                prune.identity(module=module, name=param_name)\n",
    "\n",
    "def getWeights(model):\n",
    "    identityPrune(model)\n",
    "    modules = list()\n",
    "    weights = list()\n",
    "    masks = list()\n",
    "    for module in model.modules():\n",
    "        if (hasattr(module, 'weight_orig') and hasattr(module, 'weight_mask')):\n",
    "            modules.append(module)\n",
    "            weights.append(getattr(module, 'weight_orig'))\n",
    "            masks.append(getattr(module, 'weight_mask'))\n",
    "    return modules, weights, masks\n",
    "\n",
    "modules, weights, masks = getWeights(model)\n",
    "'''"
   ]
  },
  {
   "cell_type": "code",
   "execution_count": 6,
   "metadata": {},
   "outputs": [],
   "source": [
    "class ThresholdPruning(prune.BasePruningMethod):\n",
    "    PRUNING_TYPE = 'unstructured'\n",
    "    def __init__(self, threshold):\n",
    "        self.threshold = threshold\n",
    "\n",
    "    def compute_mask(self, tensor, default_mask):\n",
    "        return (torch.abs(tensor) >= self.threshold).float() * default_mask\n",
    "\n",
    "def global_mag_weight_prune(model, amount):\n",
    "    parameters = list()\n",
    "\n",
    "    all_relevant_weights = np.array([])\n",
    "\n",
    "    for module in model.modules():\n",
    "        if (hasattr(module, 'weight')):\n",
    "            prune.identity(module, 'weight')\n",
    "            parameters.append((module, 'weight'))\n",
    "\n",
    "            weight_mask = getattr(module, 'weight_mask')\n",
    "            weight = getattr(module, 'weight')\n",
    "\n",
    "            all_relevant_weights = np.append(all_relevant_weights, torch.masked_select(weight, weight_mask.bool()).flatten().cpu().detach().numpy())\n",
    "\n",
    "    threshold = np.percentile(np.abs(all_relevant_weights), amount * 100.0)\n",
    "\n",
    "    prune.global_unstructured(\n",
    "        parameters=parameters,\n",
    "        pruning_method=ThresholdPruning,\n",
    "        threshold = threshold\n",
    "    )\n",
    "\n",
    "def apply_permanent_prune(model, name):\n",
    "    for module in model.modules():\n",
    "        if (prune.is_pruned(module) and hasattr(module, name)):\n",
    "            module = prune.remove(module, name)\n",
    "            \n",
    "\n",
    "\n",
    "None"
   ]
  },
  {
   "cell_type": "code",
   "execution_count": 7,
   "metadata": {},
   "outputs": [
    {
     "data": {
      "text/plain": [
       "torch.Size([16, 3, 3, 3])"
      ]
     },
     "execution_count": 7,
     "metadata": {},
     "output_type": "execute_result"
    }
   ],
   "source": [
    "model.conv1.weight.size()"
   ]
  },
  {
   "cell_type": "code",
   "execution_count": 8,
   "metadata": {},
   "outputs": [
    {
     "name": "stdout",
     "output_type": "stream",
     "text": [
      "0.899999529951491\n",
      "0.67662\n"
     ]
    }
   ],
   "source": [
    "global_mag_weight_prune(model, 0.9)\n",
    "# apply_permanent_prune(model, 'weight')\n",
    "\n",
    "def zero_percentage(model, name):\n",
    "    zeros = 0.0\n",
    "    total = 0.0\n",
    "    for module in model.modules():\n",
    "        if (hasattr(module, name)):\n",
    "            zeros = zeros + float(torch.sum(module.weight == 0.0))\n",
    "            total = total + float(module.weight.nelement())\n",
    "    return zeros / total\n",
    "\n",
    "print(zero_percentage(model, 'weight'))\n",
    "print(get_accuracy(model, dataloader))"
   ]
  },
  {
   "cell_type": "code",
   "execution_count": 9,
   "metadata": {},
   "outputs": [],
   "source": [
    "loss_fn = nn.CrossEntropyLoss()\n",
    "optimizer = torch.optim.Adam(model.parameters(), lr = 0.001, weight_decay=0.0001)\n",
    "\n",
    "for epoch in range(1):\n",
    "    running_loss = 0.0\n",
    "    running_acc = 0.0\n",
    "\n",
    "    for i, (images, labels) in enumerate(dataloader, 0):\n",
    "        images = images.to(device)\n",
    "        labels = labels.to(device)\n",
    "\n",
    "        optimizer.zero_grad()\n",
    "        outputs = model(images)\n",
    "        loss = loss_fn(outputs, labels)\n",
    "        loss.backward()\n",
    "        optimizer.step()\n",
    "\n"
   ]
  },
  {
   "cell_type": "code",
   "execution_count": 10,
   "metadata": {},
   "outputs": [
    {
     "name": "stdout",
     "output_type": "stream",
     "text": [
      "0.899999529951491\n",
      "0.95352\n"
     ]
    }
   ],
   "source": [
    "print(zero_percentage(model, 'weight'))\n",
    "print(get_accuracy(model, dataloader))"
   ]
  },
  {
   "cell_type": "code",
   "execution_count": null,
   "metadata": {},
   "outputs": [],
   "source": []
  }
 ],
 "metadata": {
  "kernelspec": {
   "display_name": "pyt",
   "language": "python",
   "name": "python3"
  },
  "language_info": {
   "codemirror_mode": {
    "name": "ipython",
    "version": 3
   },
   "file_extension": ".py",
   "mimetype": "text/x-python",
   "name": "python",
   "nbconvert_exporter": "python",
   "pygments_lexer": "ipython3",
   "version": "3.10.9"
  },
  "orig_nbformat": 4,
  "vscode": {
   "interpreter": {
    "hash": "692f3afc0acd1fc369913cd5a04d209b2475875d1d15a337870e8b7808ad8563"
   }
  }
 },
 "nbformat": 4,
 "nbformat_minor": 2
}
